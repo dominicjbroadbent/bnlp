{
 "cells": [
  {
   "cell_type": "code",
   "execution_count": 221,
   "id": "5038ace3-6375-4e97-adb1-1815ca2f1670",
   "metadata": {},
   "outputs": [],
   "source": [
    "import nltk, string, openpyxl\n",
    "import numpy as np\n",
    "import pandas as pd\n",
    "import matplotlib.pyplot as plt\n",
    "\n",
    "from sklearn.feature_extraction.text import TfidfVectorizer\n",
    "from tqdm.notebook import tqdm"
   ]
  },
  {
   "cell_type": "code",
   "execution_count": null,
   "id": "d589a22d-dace-426d-a720-b80c1ddb7e24",
   "metadata": {},
   "outputs": [
    {
     "name": "stdout",
     "output_type": "stream",
     "text": [
      "We have 991 blurbs to analyse\n"
     ]
    }
   ],
   "source": [
    "# Read in data, extract the old and new blurbs, as well as if they match exactly\n",
    "data = pd.read_excel('../data.ods', engine = 'odf').dropna().to_numpy()\n",
    "old_blurbs = data[:, 0].tolist()\n",
    "new_blurbs = data[:, 1].tolist()\n",
    "\n",
    "print(f'We have {len(old_blurbs)} blurbs to analyse')"
   ]
  },
  {
   "cell_type": "code",
   "execution_count": 172,
   "id": "59a1760c-75d0-4046-af46-8181370be0e9",
   "metadata": {},
   "outputs": [],
   "source": [
    "# Define a function to use the Porter stemmer to stem a list of tokens\n",
    "def stem_tokens(tokens):\n",
    "    \"\"\"Stems a list of tokens using a modified version of the Porter stemming algorithm\n",
    "    provided by the nltk package.\n",
    "    \n",
    "    Parameters\n",
    "    ----------\n",
    "    tokens: list\n",
    "        a list of tokens\n",
    "        \n",
    "    Returns\n",
    "    stemmed_tokens: list\n",
    "        a list of stemmed tokens\n",
    "    \"\"\"\n",
    "    # Load in Martin Porter's stemming algorithm\n",
    "    stemmer = nltk.stem.porter.PorterStemmer()\n",
    "    \n",
    "    # Stem each token in the input list\n",
    "    stemmed_tokens = [stemmer.stem(item) for item in tokens]\n",
    "    return stemmed_tokens\n",
    "\n",
    "# Define a function to normalise a text document given as a string\n",
    "def normalise(text):\n",
    "    \"\"\"Normalises text data by removing punctation, setting everything to lower case and tokenising.\n",
    "    \n",
    "    Punctation list provided by the string module.\n",
    "    \n",
    "    Parameters\n",
    "    ----------\n",
    "    text: string\n",
    "        a text document\n",
    "        \n",
    "    Returns\n",
    "    ---------\n",
    "    token: list\n",
    "        a list of tokens for the normalised text\n",
    "    \"\"\"\n",
    "    # Define a map which removes punctation\n",
    "    remove_punctuation_map = dict((ord(char), None) for char in string.punctuation)\n",
    "\n",
    "    # First we remove punctuation\n",
    "    punc = text.translate(remove_punctuation_map)\n",
    "    \n",
    "    # Then set everything to lower case\n",
    "    lower = punc.lower()\n",
    "    \n",
    "    # And finally, tokenise\n",
    "    token = nltk.word_tokenize(lower)\n",
    "    return token\n",
    "\n",
    "def cosine_sim(doc_1, doc_2):\n",
    "    \"\"\"Calculate the cosine similarity between two text documents.\n",
    "    \n",
    "    Parameters\n",
    "    ----------\n",
    "    doc_1: string\n",
    "        the first document\n",
    "    \n",
    "    doc_2: string\n",
    "        the second document\n",
    "        \n",
    "    Returns\n",
    "    ---------\n",
    "    cos_sim: float between 0 and 1\n",
    "        the cosine similarity between document 1 and 2\n",
    "    \"\"\"\n",
    "    # Define a vectoriser using the term frequency-inverse document frequency (TF-IDF) measure\n",
    "    # (The more frequent a word appears, the less important it is)\n",
    "    vectoriser = TfidfVectorizer(tokenizer = normalise, stop_words = 'english')\n",
    "    \n",
    "    # Learn the vocabulary of the two documents, and transform to vectors using TF-IDF\n",
    "    tf_idf = vectoriser.fit_transform([doc_1, doc_2])\n",
    "    \n",
    "    # Calculate the pairwise similarity matrix\n",
    "    pairwise_similarity = ( tf_idf * tf_idf.T ).toarray()\n",
    "    \n",
    "    # Return the similarity\n",
    "    return pairwise_similarity[0, 1]"
   ]
  },
  {
   "cell_type": "code",
   "execution_count": 173,
   "id": "56db2515-b7a9-46d9-bbb7-1e254fafa4d2",
   "metadata": {},
   "outputs": [
    {
     "data": {
      "application/vnd.jupyter.widget-view+json": {
       "model_id": "71cdabc6d0a64e7fa2fc507dad052bf2",
       "version_major": 2,
       "version_minor": 0
      },
      "text/plain": [
       "  0%|          | 0/991 [00:00<?, ?it/s]"
      ]
     },
     "metadata": {},
     "output_type": "display_data"
    }
   ],
   "source": [
    "similarities = np.zeros(len(old_blurbs))\n",
    "for i in tqdm(range(len(old_blurbs))):\n",
    "    similarities[i] = cosine_sim(old_blurbs[i], new_blurbs[i])"
   ]
  },
  {
   "cell_type": "code",
   "execution_count": 174,
   "id": "406b556e-d815-4803-984a-9f1792c24a11",
   "metadata": {},
   "outputs": [
    {
     "data": {
      "image/png": "[encoded data removed]",
      "text/plain": [
       "<Figure size 432x288 with 1 Axes>"
      ]
     },
     "metadata": {
      "needs_background": "light"
     },
     "output_type": "display_data"
    }
   ],
   "source": [
    "# Looks like the vast majority of the blurbs are very similar (0.9 +)\n",
    "plt.hist(similarities, ec = 'black', density = False)\n",
    "plt.xlabel('Similarity')\n",
    "plt.ylabel('Frequency')\n",
    "plt.show()"
   ]
  },
  {
   "cell_type": "code",
   "execution_count": 175,
   "id": "41bb3b5d-3af0-462d-b863-140f08d3cfa4",
   "metadata": {},
   "outputs": [
    {
     "name": "stdout",
     "output_type": "stream",
     "text": [
      "It turns out that 594 out of 991 blurbs are exactly equal.\n"
     ]
    }
   ],
   "source": [
    "# Looks like many of the documents are actually exactly the same.\n",
    "# Floating point errors mean that values that should be 1 often erroneously end up as 0.9999999 etc\n",
    "print(f'It turns out that {sum(similarities > 0.999)} out of {len(old_blurbs)} blurbs are exactly equal.')"
   ]
  },
  {
   "cell_type": "code",
   "execution_count": 176,
   "id": "5a0f9ef7-1d10-4284-a70a-e1c70dca612c",
   "metadata": {},
   "outputs": [
    {
     "data": {
      "image/png": "[encoded data removed]",
      "text/plain": [
       "<Figure size 432x288 with 1 Axes>"
      ]
     },
     "metadata": {
      "needs_background": "light"
     },
     "output_type": "display_data"
    }
   ],
   "source": [
    "# How about just the ones that arent exactly the same. \n",
    "# A little more evenly spread\n",
    "plt.hist(similarities[similarities < 0.999], ec = 'black', density = False)\n",
    "plt.xlabel('Similarity')\n",
    "plt.ylabel('Frequency')\n",
    "plt.show()"
   ]
  },
  {
   "cell_type": "code",
   "execution_count": 177,
   "id": "e2ec7eaa-7ab4-4244-aac3-981c12c731e4",
   "metadata": {},
   "outputs": [
    {
     "data": {
      "image/png": "[encoded data removed]",
      "text/plain": [
       "<Figure size 432x288 with 1 Axes>"
      ]
     },
     "metadata": {
      "needs_background": "light"
     },
     "output_type": "display_data"
    }
   ],
   "source": [
    "# Lets see how sharp the fall actually is.\n",
    "granularity = 1000\n",
    "num_less = np.zeros(granularity)\n",
    "for index, num in enumerate(np.linspace(0, 1, granularity)):\n",
    "    num_less[index] = sum(similarities[similarities < 0.999] < num)\n",
    "    \n",
    "plt.hist(similarities[similarities < 0.999], ec = 'black', density = False)\n",
    "plt.plot(np.linspace(0, 1, granularity), num_less, label = 'Cumulative sum')\n",
    "plt.xticks(np.arange(0, 1.1, step = 0.1))\n",
    "plt.xlabel('Similarity')\n",
    "plt.ylabel('Frequency')\n",
    "plt.legend()\n",
    "plt.show()\n",
    "\n",
    "# It looks like that by setting the threshold at around 0.8, we would halve the size of the\n",
    "# data. This is after already detecting and removing those blurbs that are actually exactly equal.\n",
    "# If we take this into account, the data size would be about a fifth."
   ]
  },
  {
   "cell_type": "code",
   "execution_count": 178,
   "id": "78397a2a-1e98-45e6-852d-75d3f444f7a9",
   "metadata": {},
   "outputs": [
    {
     "name": "stdout",
     "output_type": "stream",
     "text": [
      "---------------------------------------------------------------------------------------------------------------------------------------------------------------------------------\n",
      "Index: 0 \n",
      "\n",
      "Similarity: 0.453\n",
      "\n",
      "Established in Scotland in 1987, Orion Group has achieved consistent growth over the ensuing 31 years and is now an international leader in the provision of personnel to a number of industry sectors.Today Orion Group manages the placement of thousands of contractors and permanent personnel every year via their worldwide network of offices throughout Europe, the Americas, the Middle East, Asia Pacific and Africa.Orion provide specialist recruitment services across a range of sectors including; Life Sciences, New Energies, Oil and Gas, Construction & Infrastructure, Mining, Nuclear, Power & Utilities, Marine, Rail, IT, Finance, Office. Orion has the market intelligence and the experience necessary to take a holistic approach to project delivery – managing manpower provision from start to finish. \n",
      "\n",
      "Established in Scotland in 1987, Orion Group has achieved consistent growth over the ensuing years and is now an international leader in the provision of personnel to a number of industry sectors. \n",
      "\n"
     ]
    }
   ],
   "source": [
    "def compare_blurbs(index, similarity = False):\n",
    "    \"\"\"Print out the two blurbs, as well as their similarity score if requested.\n",
    "    \n",
    "    Parameters\n",
    "    ----------\n",
    "    index: integer greater than or euqal to 0\n",
    "        the index of which to query\n",
    "    \n",
    "    similarty: boolean\n",
    "        whether or not the similarity score should be printed\n",
    "        \n",
    "    Yields\n",
    "    --------\n",
    "    The data index, the two blurbs, and optionally, the similarity score are printed to the console\n",
    "    \"\"\"\n",
    "    print('----------------------------------------------------------------------'\\\n",
    "          '-----------------------------------------------------------------------'\\\n",
    "          '------------------------------------')\n",
    "    print(f'Index: {index} \\n')\n",
    "    if similarity:   \n",
    "        print(f'Similarity: {round(cosine_sim(old_blurbs[index], new_blurbs[index]), 3)}\\n')\n",
    "    print(old_blurbs[index], '\\n')\n",
    "    print(new_blurbs[index], '\\n')\n",
    "\n",
    "compare_blurbs(0, similarity = True)"
   ]
  },
  {
   "cell_type": "code",
   "execution_count": null,
   "id": "661bc53e-092b-4b36-ac88-cee1ed9bafb1",
   "metadata": {},
   "outputs": [],
   "source": [
    "# Lets have a look at if those blurbs under this arbitrary threshold look to be different enough\n",
    "threshold = 0.8\n",
    "\n",
    "for index, similarity in enumerate(similarities):\n",
    "    if similarity < threshold:\n",
    "        compare_blurbs(index, similarity = True)"
   ]
  },
  {
   "cell_type": "code",
   "execution_count": 270,
   "id": "383c506a-50e8-4059-a105-e1649ab37beb",
   "metadata": {},
   "outputs": [],
   "source": [
    "def similarity_subset(input_data_path, output_data_path, threshold = 0.8):\n",
    "    \"\"\"Function to load data consisting of two columns, the first containing old company blurbs\n",
    "    the second containing new blurbs, work out their similarity and return a new data file consisting \n",
    "    of only those blurbs that are more different than some user-specified threshold.\n",
    "    \n",
    "    Parameters\n",
    "    ----------\n",
    "    input_data_path: string\n",
    "        the path to the data file, the data must be an excel table\n",
    "    \n",
    "    output_data_path: string\n",
    "        the path where you want save the new data file e.g. './new_data.ods'\n",
    "    \n",
    "    threshold: float betweeon 0 and 1\n",
    "        the cut off point at which we filter out a blurb for not being similar enough,\n",
    "        the higher the threshold, the more similar we allow blurbs to be\n",
    "    \"\"\"\n",
    "    # Read in data, drop the empty rows\n",
    "    data = pd.read_excel(input_data_path, engine = 'odf').dropna().to_numpy()\n",
    "    \n",
    "    N = data.shape[0]\n",
    "    print(f'Number of blurbs: {N}')\n",
    "    \n",
    "    # Remove those rows that are identical\n",
    "    data = data[data[:, 0] != data[:, 1]]\n",
    "    print(f'Removed {N - data.shape[0]} identical blurbs...')\n",
    "    \n",
    "    # Extract remaining blurbs\n",
    "    old_blurbs = data[:, 0].tolist()\n",
    "    new_blurbs = data[:, 1].tolist()\n",
    "    \n",
    "    # Compute similarities and remove the rows that are below the threshold\n",
    "    print('Computing similarities of remaining blurbs...')\n",
    "    similarities = np.zeros(len(old_blurbs))\n",
    "    for i in tqdm(range(len(old_blurbs))):\n",
    "        similarities[i] = cosine_sim(old_blurbs[i], new_blurbs[i])\n",
    "    \n",
    "    M = sum(similarities < threshold)\n",
    "    print(f'Remaining number of blurbs: {M}. Total reduction of {round((N - M)/N * 100, 2)}%!')\n",
    "    \n",
    "    print(f'Saving file to the path {output_data_path}')\n",
    "    # Find those blurbs where the similarity is less than our threshold, \n",
    "    # and output them to a new excel file\n",
    "    threshed_indexes = np.where(similarities < threshold)\n",
    "    pd.DataFrame( data[threshed_indexes] ).to_excel(output_data_path,\n",
    "                                                  index = False,\n",
    "                                                  header = ['Old - Own blurb from the bridge', 'New - Own blurb you would copy paste onto the bridge'])\n",
    "\n",
    "    "
   ]
  },
  {
   "cell_type": "code",
   "execution_count": 271,
   "id": "af45a4c7-9a63-46b0-819a-976a10794010",
   "metadata": {},
   "outputs": [
    {
     "name": "stdout",
     "output_type": "stream",
     "text": [
      "Number of blurbs: 991\n",
      "Removed 558 identical blurbs...\n",
      "Computing similarities of remaining blurbs...\n"
     ]
    },
    {
     "data": {
      "application/vnd.jupyter.widget-view+json": {
       "model_id": "829ed0b1922742698cc1f4348cbfe599",
       "version_major": 2,
       "version_minor": 0
      },
      "text/plain": [
       "  0%|          | 0/433 [00:00<?, ?it/s]"
      ]
     },
     "metadata": {},
     "output_type": "display_data"
    },
    {
     "name": "stdout",
     "output_type": "stream",
     "text": [
      "Remaining number of blurbs: 206. Total reduction of 79.21%!\n",
      "Saving file to the path ../new_data.ods\n"
     ]
    }
   ],
   "source": [
    "similarity_subset('../data.ods', '../new_data.ods', 0.8)"
   ]
  },
  {
   "cell_type": "code",
   "execution_count": null,
   "id": "a0e176c7-e293-4005-92ad-118ce466980b",
   "metadata": {},
   "outputs": [],
   "source": []
  }
 ],
 "metadata": {
  "kernelspec": {
   "display_name": "Python 3 (ipykernel)",
   "language": "python",
   "name": "python3"
  },
  "language_info": {
   "codemirror_mode": {
    "name": "ipython",
    "version": 3
   },
   "file_extension": ".py",
   "mimetype": "text/x-python",
   "name": "python",
   "nbconvert_exporter": "python",
   "pygments_lexer": "ipython3",
   "version": "3.9.12"
  }
 },
 "nbformat": 4,
 "nbformat_minor": 5
}
