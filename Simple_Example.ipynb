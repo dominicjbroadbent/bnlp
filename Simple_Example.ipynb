{
 "cells": [
  {
   "cell_type": "code",
   "execution_count": 8,
   "id": "bb6baf45-abd0-482f-a051-8e2d73f31259",
   "metadata": {},
   "outputs": [],
   "source": [
    "from blurb_sim import similarity_subset"
   ]
  },
  {
   "cell_type": "code",
   "execution_count": 9,
   "id": "0ea381a3-4120-478a-a2ab-0c242a3da704",
   "metadata": {},
   "outputs": [
    {
     "name": "stdout",
     "output_type": "stream",
     "text": [
      "We have 991 blurbs to analyse\n"
     ]
    }
   ],
   "source": [
    "# Read in data, extract the old and new blurbs, as well as if they match exactly\n",
    "data = pd.read_excel('../data.ods', engine = 'odf').dropna().to_numpy()\n",
    "old_blurbs = data[:, 0].tolist()\n",
    "new_blurbs = data[:, 1].tolist()\n",
    "\n",
    "print(f'We have {len(old_blurbs)} blurbs to analyse')"
   ]
  },
  {
   "cell_type": "code",
   "execution_count": 10,
   "id": "df6ec94f-eafb-45c0-8747-b3c1e9ca25a1",
   "metadata": {},
   "outputs": [
    {
     "data": {
      "text/plain": [
       "'Established in Scotland in 1987, Orion Group has achieved consistent growth over the ensuing 31 years and is now an international leader in the provision of personnel to a number of industry sectors.Today Orion Group manages the placement of thousands of contractors and permanent personnel every year via their worldwide network of offices throughout Europe, the Americas, the Middle East, Asia Pacific and Africa.Orion provide specialist recruitment services across a range of sectors including; Life Sciences, New Energies, Oil and Gas, Construction & Infrastructure, Mining, Nuclear, Power & Utilities, Marine, Rail, IT, Finance, Office. Orion has the market intelligence and the experience necessary to take a holistic approach to project delivery – managing manpower provision from start to finish.'"
      ]
     },
     "execution_count": 10,
     "metadata": {},
     "output_type": "execute_result"
    }
   ],
   "source": [
    "old_blurbs[0]"
   ]
  },
  {
   "cell_type": "code",
   "execution_count": 11,
   "id": "06e78fb7-20f6-4c49-8abd-c45b0ff40b78",
   "metadata": {},
   "outputs": [
    {
     "data": {
      "text/plain": [
       "'Established in Scotland in 1987, Orion Group has achieved consistent growth over the ensuing years and is now an international leader in the provision of personnel to a number of industry sectors.'"
      ]
     },
     "execution_count": 11,
     "metadata": {},
     "output_type": "execute_result"
    }
   ],
   "source": [
    "new_blurbs[0]"
   ]
  },
  {
   "cell_type": "code",
   "execution_count": 12,
   "id": "5ae61cfa-e9b9-40d0-a4fb-37c64f558c0b",
   "metadata": {},
   "outputs": [
    {
     "name": "stdout",
     "output_type": "stream",
     "text": [
      "Number of blurbs: 991\n",
      "Removed 558 identical blurbs...\n",
      "Computing similarities of remaining blurbs...\n"
     ]
    },
    {
     "data": {
      "application/vnd.jupyter.widget-view+json": {
       "model_id": "b84cc2a778da42478265545569e7c3cc",
       "version_major": 2,
       "version_minor": 0
      },
      "text/plain": [
       "  0%|          | 0/433 [00:00<?, ?it/s]"
      ]
     },
     "metadata": {},
     "output_type": "display_data"
    },
    {
     "name": "stdout",
     "output_type": "stream",
     "text": [
      "Remaining number of blurbs: 206. Total reduction of 79.21%!\n",
      "Saving file to the path ../new_data.ods\n"
     ]
    }
   ],
   "source": [
    "similarity_subset('../data.ods', '../new_data.ods')"
   ]
  },
  {
   "cell_type": "code",
   "execution_count": null,
   "id": "a6178e79-728e-4189-a2c3-5ec2254dadd8",
   "metadata": {},
   "outputs": [],
   "source": []
  }
 ],
 "metadata": {
  "kernelspec": {
   "display_name": "Python 3 (ipykernel)",
   "language": "python",
   "name": "python3"
  },
  "language_info": {
   "codemirror_mode": {
    "name": "ipython",
    "version": 3
   },
   "file_extension": ".py",
   "mimetype": "text/x-python",
   "name": "python",
   "nbconvert_exporter": "python",
   "pygments_lexer": "ipython3",
   "version": "3.9.12"
  }
 },
 "nbformat": 4,
 "nbformat_minor": 5
}
